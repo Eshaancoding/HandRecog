{
 "cells": [
  {
   "cell_type": "markdown",
   "metadata": {
    "_uuid": "26f942124d1f3b3548ec43a0c97d16e6944d7f0a"
   },
   "source": [
    "# Intro\n",
    "The Hand Gesture Recognition Database is a collection of near-infra-red images of ten distinct hand gestures. In this notebook we use end-to-end deep learning to build a classifier for these images.\n",
    "\n",
    "We'll first load some packages required for reading in and plotting the images. "
   ]
  },
  {
   "cell_type": "code",
   "execution_count": 1,
   "metadata": {
    "_cell_guid": "b1076dfc-b9ad-4769-8c92-a6c4dae69d19",
    "_uuid": "8f2839f25d086af736a60e9eeb907d3b93b6e0e5",
    "execution": {
     "iopub.execute_input": "2021-07-20T04:18:01.012758Z",
     "iopub.status.busy": "2021-07-20T04:18:01.012473Z",
     "iopub.status.idle": "2021-07-20T04:18:01.017903Z",
     "shell.execute_reply": "2021-07-20T04:18:01.017102Z",
     "shell.execute_reply.started": "2021-07-20T04:18:01.012708Z"
    }
   },
   "outputs": [],
   "source": [
    "import numpy as np # We'll be storing our data as numpy arrays\n",
    "import os # For handling directories\n",
    "from PIL import Image # For handling the images\n",
    "import matplotlib.pyplot as plt\n",
    "import matplotlib.image as mpimg # Plotting\n",
    "import cv2\n"
   ]
  },
  {
   "cell_type": "markdown",
   "metadata": {
    "_uuid": "c0b2fbd1571aee9fc7b7a5f6e961d21a44e2ef74"
   },
   "source": [
    "As described in the Data Overview, there are 10 folders labelled 00 to 09, each containing images from a given subject. In each folder there are subfolders for each gesture. We'll build a dictionary `lookup` storing the names of the gestures we need to identify, and giving each gesture a numerical identifier. We'll also build a dictionary `reverselookup` that tells us what gesture is associated to a given identifier."
   ]
  },
  {
   "cell_type": "code",
   "execution_count": 2,
   "metadata": {
    "_uuid": "c420d31c96f7b91bcea89fb6355e570f7e3e233f",
    "execution": {
     "iopub.execute_input": "2021-07-20T04:18:04.274864Z",
     "iopub.status.busy": "2021-07-20T04:18:04.274555Z",
     "iopub.status.idle": "2021-07-20T04:18:04.297044Z",
     "shell.execute_reply": "2021-07-20T04:18:04.296218Z",
     "shell.execute_reply.started": "2021-07-20T04:18:04.274807Z"
    }
   },
   "outputs": [
    {
     "data": {
      "text/plain": [
       "{0: '08_three',\n",
       " 1: '02_l',\n",
       " 2: '09_c',\n",
       " 3: '04_two',\n",
       " 4: '03_bunny',\n",
       " 5: '10_down',\n",
       " 6: '06_index',\n",
       " 7: '07_ok',\n",
       " 8: '05_thumb',\n",
       " 9: '01_palm'}"
      ]
     },
     "execution_count": 2,
     "metadata": {},
     "output_type": "execute_result"
    }
   ],
   "source": [
    "lookup = dict()\n",
    "reverselookup = dict()\n",
    "count = 0\n",
    "for j in os.listdir('../input/handdataset/dataset/00/'):\n",
    "    if not j.startswith('.'): # If running this code locally, this is to \n",
    "                              # ensure you aren't reading in hidden folders\n",
    "        lookup[j] = count\n",
    "        reverselookup[count] = j\n",
    "        count = count + 1\n",
    "reverselookup"
   ]
  },
  {
   "cell_type": "markdown",
   "metadata": {
    "_uuid": "b926d60c7be2f047815351e5f9b54a2f4586a6f7"
   },
   "source": [
    "Next we read in the images, storing them in `x_data`. We store the numerical classifier for each image in `y_data`. Since the images are quite large and are coming from an infra-red sensor, there's nothing really lost in converting them to greyscale and resizing to speed up the computations."
   ]
  },
  {
   "cell_type": "code",
   "execution_count": 3,
   "metadata": {
    "_uuid": "7112724d1b086639e0c539ae79db299c1ac131b5",
    "execution": {
     "iopub.execute_input": "2021-07-20T04:18:06.989893Z",
     "iopub.status.busy": "2021-07-20T04:18:06.989622Z",
     "iopub.status.idle": "2021-07-20T04:19:12.178232Z",
     "shell.execute_reply": "2021-07-20T04:19:12.177276Z",
     "shell.execute_reply.started": "2021-07-20T04:18:06.989844Z"
    }
   },
   "outputs": [],
   "source": [
    "x_data = []\n",
    "y_data = []\n",
    "minRange = np.array([77], np.uint8)\n",
    "maxRange = np.array([255], np.uint8)\n",
    "def preprocess (image):\n",
    "    skinArea = cv2.inRange(image, minRange, maxRange)\n",
    "    masked_image = cv2.bitwise_and(image, image, mask=skinArea)\n",
    "    no_black = np.where(\n",
    "        (masked_image[:] != 0) & \n",
    "        (masked_image[:] != 0) &\n",
    "        (masked_image[:] != 0) \n",
    "    )\n",
    "    black = np.where(\n",
    "        (masked_image[:] == 0) & \n",
    "        (masked_image[:] == 0) &\n",
    "        (masked_image[:] == 0) \n",
    "    )\n",
    "    masked_image[no_black] = [1]\n",
    "    masked_image[black] = [0]\n",
    "    return cv2.resize(masked_image, (320, 120))\n",
    "\n",
    "datacount = 0 # We'll use this to tally how many images are in our dataset\n",
    "for i in range(0, 10): # Loop over the ten top-level folders\n",
    "    for j in os.listdir('../input/handdataset/dataset/0' + str(i) + '/'):\n",
    "        if not j.startswith('.'): # Again avoid hidden folders\n",
    "            count = 0 # To tally images of a given gesture\n",
    "            for k in os.listdir('../input/handdataset/dataset/0' + \n",
    "                                str(i) + '/' + j + '/'):\n",
    "                                # Loop over the images\n",
    "                img = Image.open('../input/handdataset/dataset/0' + \n",
    "                                 str(i) + '/' + j + '/' + k)\n",
    "                                # Read in and convert to greyscale\n",
    "                img = img.resize((320, 120))\n",
    "                arr = np.array(img)\n",
    "                arr = preprocess(arr)\n",
    "                x_data.append(arr) \n",
    "                count = count + 1\n",
    "            y_values = np.full((count, 1), lookup[j]) \n",
    "            y_data.append(y_values)\n",
    "            datacount = datacount + count\n",
    "x_data = np.array(x_data, dtype = 'float32')\n",
    "y_data = np.array(y_data)\n",
    "y_data = y_data.reshape(datacount, 1) # Reshape to be the correct size"
   ]
  },
  {
   "cell_type": "markdown",
   "metadata": {
    "_uuid": "647f8cf1d26b3c3128c642fd56bdc72a6d546e03"
   },
   "source": [
    "Let's take a look at some of the pictures. Since each of the subfolders in `00` contained 200 images, we'll use the following piece of code to load one image of each gesture."
   ]
  },
  {
   "cell_type": "code",
   "execution_count": 4,
   "metadata": {
    "_uuid": "c1fd179acf7c0ad82b2000befe8d2688b6681498",
    "execution": {
     "iopub.execute_input": "2021-07-20T04:19:17.523318Z",
     "iopub.status.busy": "2021-07-20T04:19:17.523046Z",
     "iopub.status.idle": "2021-07-20T04:19:18.799963Z",
     "shell.execute_reply": "2021-07-20T04:19:18.799197Z",
     "shell.execute_reply.started": "2021-07-20T04:19:17.523262Z"
    }
   },
   "outputs": [
    {
     "data": {
      "image/png": "[encoded data removed]",
      "text/plain": [
       "<matplotlib.figure.Figure at 0x7f578c114208>"
      ]
     },
     "metadata": {},
     "output_type": "display_data"
    },
    {
     "data": {
      "image/png": "[encoded data removed]",
      "text/plain": [
       "<matplotlib.figure.Figure at 0x7f577a046ba8>"
      ]
     },
     "metadata": {},
     "output_type": "display_data"
    },
    {
     "data": {
      "image/png": "[encoded data removed]",
      "text/plain": [
       "<matplotlib.figure.Figure at 0x7f5779f03b70>"
      ]
     },
     "metadata": {},
     "output_type": "display_data"
    },
    {
     "data": {
      "image/png": "[encoded data removed]",
      "text/plain": [
       "<matplotlib.figure.Figure at 0x7f578c040080>"
      ]
     },
     "metadata": {},
     "output_type": "display_data"
    },
    {
     "data": {
      "image/png": "[encoded data removed]",
      "text/plain": [
       "<matplotlib.figure.Figure at 0x7f577a04bc50>"
      ]
     },
     "metadata": {},
     "output_type": "display_data"
    },
    {
     "data": {
      "image/png": "[encoded data removed]",
      "text/plain": [
       "<matplotlib.figure.Figure at 0x7f5779f161d0>"
      ]
     },
     "metadata": {},
     "output_type": "display_data"
    },
    {
     "data": {
      "image/png": "[encoded data removed]",
      "text/plain": [
       "<matplotlib.figure.Figure at 0x7f5779fc6f28>"
      ]
     },
     "metadata": {},
     "output_type": "display_data"
    },
    {
     "data": {
      "image/png": "[encoded data removed]",
      "text/plain": [
       "<matplotlib.figure.Figure at 0x7f56bed77cc0>"
      ]
     },
     "metadata": {},
     "output_type": "display_data"
    },
    {
     "data": {
      "image/png": "[encoded data removed]",
      "text/plain": [
       "<matplotlib.figure.Figure at 0x7f56bee37ef0>"
      ]
     },
     "metadata": {},
     "output_type": "display_data"
    },
    {
     "data": {
      "image/png": "[encoded data removed]",
      "text/plain": [
       "<matplotlib.figure.Figure at 0x7f56bee18e10>"
      ]
     },
     "metadata": {},
     "output_type": "display_data"
    }
   ],
   "source": [
    "from random import randint\n",
    "for i in range(0, 10):\n",
    "    plt.imshow(x_data[i*200 , :, :])\n",
    "    plt.title(reverselookup[y_data[i*200 ,0]])\n",
    "    plt.show()\n"
   ]
  },
  {
   "cell_type": "markdown",
   "metadata": {
    "_uuid": "df241f8892dcfce4fefebdc411eb96e8fa17d4b6"
   },
   "source": [
    "The first thing to note is that this is not a difficult classification problem. The gestures are quite distinct, the images are clear, and there's no background whatsoever to worry about. If you weren't comfortable with deep learning, you could do quite well with some straight-forward feature detection -- for example the '07_ok' class could easily be detected with binary thresholding followed by circle detection. \n",
    "\n",
    "Moreover, the gestures consistently occupy only about 25% of the image, and all would fit snugly inside a square bounding box. Again if you're looking to do basic feature detection, an easy first step would be to write a short script cropping everything to the relevant 120 x 120 square. \n",
    "\n",
    "But the point of this notebook is to show how effective it is to just throw a neural network at a problem like this without having to worry about any of the above, so that's what we're going to do. \n",
    "\n",
    "At the moment our vector `y_data` has shape `(datacount, 1)`, with `y_data[i,0] = j` if the `i`th image in our dataset is of gesture `reverselookup[j]`. In order to convert it to one-hot format, we use the keras function to_categorical:"
   ]
  },
  {
   "cell_type": "code",
   "execution_count": 5,
   "metadata": {
    "_uuid": "f297531e77b9481ddd17612e364d6af413f2d152",
    "execution": {
     "iopub.execute_input": "2021-07-20T04:19:39.612472Z",
     "iopub.status.busy": "2021-07-20T04:19:39.612156Z",
     "iopub.status.idle": "2021-07-20T04:19:42.004558Z",
     "shell.execute_reply": "2021-07-20T04:19:42.003892Z",
     "shell.execute_reply.started": "2021-07-20T04:19:39.612413Z"
    },
    "scrolled": true
   },
   "outputs": [
    {
     "name": "stderr",
     "output_type": "stream",
     "text": [
      "/opt/conda/lib/python3.6/site-packages/h5py/__init__.py:36: FutureWarning: Conversion of the second argument of issubdtype from `float` to `np.floating` is deprecated. In future, it will be treated as `np.float64 == np.dtype(float).type`.\n",
      "  from ._conv import register_converters as _register_converters\n",
      "Using TensorFlow backend.\n"
     ]
    }
   ],
   "source": [
    "import keras\n",
    "from keras.utils import to_categorical\n",
    "y_data = to_categorical(y_data)"
   ]
  },
  {
   "cell_type": "markdown",
   "metadata": {
    "_uuid": "82e6180f3b2fe0cc12217872bbbcf9530ef6b0ab"
   },
   "source": [
    "Our set of images has shape `(datacount, 120, 320)`. Keras will be expecting another slot to tell it the number of channels, so we reshape `x_data` accordingly. We also rescale the values in `x_data` to lie between 0 and 1."
   ]
  },
  {
   "cell_type": "code",
   "execution_count": 6,
   "metadata": {
    "_uuid": "e2da1ad1c25107d035db8f93dd3e68de1f0e5a0e",
    "execution": {
     "iopub.execute_input": "2021-07-20T04:19:44.647544Z",
     "iopub.status.busy": "2021-07-20T04:19:44.647247Z",
     "iopub.status.idle": "2021-07-20T04:19:44.651132Z",
     "shell.execute_reply": "2021-07-20T04:19:44.650436Z",
     "shell.execute_reply.started": "2021-07-20T04:19:44.647490Z"
    }
   },
   "outputs": [],
   "source": [
    "x_data = x_data.reshape((datacount, 120, 320, 1))"
   ]
  },
  {
   "cell_type": "markdown",
   "metadata": {
    "_uuid": "82feb440cd761b02ef10368def00cf7682bfbac0"
   },
   "source": [
    "We need a cross-validation set and a test set, and we'll use the `sklearn` package to construct these. In order to get an 80-10-10 split, we call `train_test_split` twice, first to split 80-20, then to split the smaller chunk 50-50. Note that we do this after the rescaling step above, to ensure that our train and test sets are coming from the same distribution."
   ]
  },
  {
   "cell_type": "code",
   "execution_count": 7,
   "metadata": {
    "_uuid": "30811523d07581f862da0189caae72691a519298",
    "execution": {
     "iopub.execute_input": "2021-07-20T04:19:47.580485Z",
     "iopub.status.busy": "2021-07-20T04:19:47.580181Z",
     "iopub.status.idle": "2021-07-20T04:19:50.041593Z",
     "shell.execute_reply": "2021-07-20T04:19:50.040811Z",
     "shell.execute_reply.started": "2021-07-20T04:19:47.580427Z"
    }
   },
   "outputs": [],
   "source": [
    "from sklearn.model_selection import train_test_split\n",
    "x_train,x_further,y_train,y_further = train_test_split(x_data,y_data,test_size = 0.2)\n",
    "x_validate,x_test,y_validate,y_test = train_test_split(x_further,y_further,test_size = 0.5)"
   ]
  },
  {
   "cell_type": "markdown",
   "metadata": {
    "_uuid": "83405d652145936c1c1d6efa09be208ef5fb55e0"
   },
   "source": [
    "Now it's time to build our network. We'll use keras."
   ]
  },
  {
   "cell_type": "code",
   "execution_count": 8,
   "metadata": {
    "_uuid": "289047861e417d177825279fa09e15069cc36d22",
    "execution": {
     "iopub.execute_input": "2021-07-20T04:19:52.572504Z",
     "iopub.status.busy": "2021-07-20T04:19:52.572197Z",
     "iopub.status.idle": "2021-07-20T04:19:52.578835Z",
     "shell.execute_reply": "2021-07-20T04:19:52.578115Z",
     "shell.execute_reply.started": "2021-07-20T04:19:52.572448Z"
    }
   },
   "outputs": [],
   "source": [
    "from keras import layers\n",
    "from keras import models"
   ]
  },
  {
   "cell_type": "markdown",
   "metadata": {
    "_uuid": "9219f9e717fc0897625257523b914b5eda6d2c70"
   },
   "source": [
    "Since our images are big (we chose not to do any cropping) and the classification problem looks quite easy, we're going to downsample fairly aggressively, beginning with a 5 x 5 filter with a stride of 2. Note we have to specify the correct input shape at this initial layer, and keras will figure it out from then on. We won't worry about padding since it's clear that all the useful features are well inside the image. We'll continue with a sequence of convolutional layers followed by max-pooling until we arrive at a small enough image that we can add a fully-connected layer. Since we need to classify between 10 possibilities, we finish with a softmax layer with 10 neurons. "
   ]
  },
  {
   "cell_type": "code",
   "execution_count": 9,
   "metadata": {
    "_uuid": "bf8c152f46e264f2f009dfa980140f9d8abe5fb9",
    "execution": {
     "iopub.execute_input": "2021-07-20T04:19:55.059582Z",
     "iopub.status.busy": "2021-07-20T04:19:55.059227Z",
     "iopub.status.idle": "2021-07-20T04:19:55.159510Z",
     "shell.execute_reply": "2021-07-20T04:19:55.158858Z",
     "shell.execute_reply.started": "2021-07-20T04:19:55.059519Z"
    }
   },
   "outputs": [],
   "source": [
    "model=models.Sequential()\n",
    "model.add(layers.Conv2D(32, (5, 5), strides=(2, 2), activation='relu', input_shape=(120, 320,1))) \n",
    "model.add(layers.MaxPooling2D((2, 2)))\n",
    "model.add(layers.Conv2D(64, (3, 3), activation='relu')) \n",
    "model.add(layers.MaxPooling2D((2, 2)))\n",
    "model.add(layers.Conv2D(64, (3, 3), activation='relu'))\n",
    "model.add(layers.MaxPooling2D((2, 2)))\n",
    "model.add(layers.Flatten())\n",
    "model.add(layers.Dense(128, activation='relu'))\n",
    "model.add(layers.Dense(10, activation='softmax'))"
   ]
  },
  {
   "cell_type": "markdown",
   "metadata": {
    "_uuid": "fc89fa803b18f748f226c1eac3dd2de77d2c0807"
   },
   "source": [
    "Finally, we fit the model."
   ]
  },
  {
   "cell_type": "code",
   "execution_count": 10,
   "metadata": {
    "_uuid": "f2361e0bacafaf96a0226a900c0132add594bd2f",
    "execution": {
     "iopub.execute_input": "2021-07-20T04:19:57.684325Z",
     "iopub.status.busy": "2021-07-20T04:19:57.684014Z",
     "iopub.status.idle": "2021-07-20T04:21:00.525725Z",
     "shell.execute_reply": "2021-07-20T04:21:00.525097Z",
     "shell.execute_reply.started": "2021-07-20T04:19:57.684264Z"
    }
   },
   "outputs": [
    {
     "name": "stdout",
     "output_type": "stream",
     "text": [
      "Train on 16000 samples, validate on 2000 samples\n",
      "Epoch 1/10\n",
      "16000/16000 [==============================] - 13s 792us/step - loss: 0.3805 - acc: 0.8708 - val_loss: 0.0214 - val_acc: 0.9940\n",
      "Epoch 2/10\n",
      "16000/16000 [==============================] - 6s 344us/step - loss: 0.0325 - acc: 0.9908 - val_loss: 0.0092 - val_acc: 0.9970\n",
      "Epoch 3/10\n",
      "16000/16000 [==============================] - 5s 317us/step - loss: 0.0127 - acc: 0.9969 - val_loss: 0.0048 - val_acc: 0.9995\n",
      "Epoch 4/10\n",
      "16000/16000 [==============================] - 5s 322us/step - loss: 0.0106 - acc: 0.9980 - val_loss: 0.0022 - val_acc: 0.9990\n",
      "Epoch 5/10\n",
      "16000/16000 [==============================] - 5s 320us/step - loss: 0.0064 - acc: 0.9983 - val_loss: 0.0038 - val_acc: 0.9990\n",
      "Epoch 6/10\n",
      "16000/16000 [==============================] - 5s 319us/step - loss: 0.0041 - acc: 0.9989 - val_loss: 0.0032 - val_acc: 0.9995\n",
      "Epoch 7/10\n",
      "16000/16000 [==============================] - 5s 334us/step - loss: 0.0036 - acc: 0.9992 - val_loss: 0.0046 - val_acc: 0.9995\n",
      "Epoch 8/10\n",
      "16000/16000 [==============================] - 6s 345us/step - loss: 0.0020 - acc: 0.9996 - val_loss: 0.0070 - val_acc: 0.9995\n",
      "Epoch 9/10\n",
      "16000/16000 [==============================] - 5s 335us/step - loss: 1.2740e-07 - acc: 1.0000 - val_loss: 0.0065 - val_acc: 0.9995\n",
      "Epoch 10/10\n",
      "16000/16000 [==============================] - 5s 326us/step - loss: 1.1925e-07 - acc: 1.0000 - val_loss: 0.0066 - val_acc: 0.9995\n"
     ]
    },
    {
     "data": {
      "text/plain": [
       "<keras.callbacks.History at 0x7f56934ad6a0>"
      ]
     },
     "execution_count": 10,
     "metadata": {},
     "output_type": "execute_result"
    }
   ],
   "source": [
    "model.compile(optimizer='rmsprop',\n",
    "              loss='categorical_crossentropy',\n",
    "              metrics=['accuracy'])\n",
    "model.fit(x_train, y_train, epochs=10, batch_size=64, verbose=1, validation_data=(x_validate, y_validate))"
   ]
  },
  {
   "cell_type": "markdown",
   "metadata": {
    "_uuid": "b01acf8756bae17bb7030eeeace0685c2e2e712f"
   },
   "source": [
    "At this point we would typically graph the accuracy of our model on the validation set, and choose a suitable number of epochs to train for to avoid overfitting. We might also consider introducing dropout and regularisation. However, we can see we're getting perfect accuracy on the validation set after just one or two epochs, so we're pretty much done. Let's quickly confirm that this is carrying through to the test set:"
   ]
  },
  {
   "cell_type": "code",
   "execution_count": 11,
   "metadata": {
    "_uuid": "d0db4fc173722f7e242f27fffe4ebb413943d69b",
    "execution": {
     "iopub.execute_input": "2021-07-20T04:21:09.399805Z",
     "iopub.status.busy": "2021-07-20T04:21:09.399533Z",
     "iopub.status.idle": "2021-07-20T04:21:09.885024Z",
     "shell.execute_reply": "2021-07-20T04:21:09.884396Z",
     "shell.execute_reply.started": "2021-07-20T04:21:09.399754Z"
    }
   },
   "outputs": [
    {
     "name": "stdout",
     "output_type": "stream",
     "text": [
      "2000/2000 [==============================] - 0s 200us/step\n",
      "Accuracy:1.0\n"
     ]
    }
   ],
   "source": [
    "[loss, acc] = model.evaluate(x_test,y_test,verbose=1)\n",
    "print(\"Accuracy:\" + str(acc))\n",
    "# serialize model to JSON\n",
    "model_json = model.to_json()\n",
    "with open(\"/kaggle/working/model.json\", \"w\") as json_file:\n",
    "    json_file.write(model_json)\n",
    "# serialize weights to HDF5\n",
    "model.save_weights(\"/kaggle/working/model.h5\")"
   ]
  },
  {
   "cell_type": "markdown",
   "metadata": {
    "_uuid": "f0fb4e88de49850beecafaf6ac6b2611a38ef5d8"
   },
   "source": [
    "You'll get slightly different numbers each time you run it but you should be getting between 99.9 and 100% accuracy. Great!"
   ]
  }
 ],
 "metadata": {
  "kernelspec": {
   "display_name": "Python 3",
   "language": "python",
   "name": "python3"
  },
  "language_info": {
   "codemirror_mode": {
    "name": "ipython",
    "version": 3
   },
   "file_extension": ".py",
   "mimetype": "text/x-python",
   "name": "python",
   "nbconvert_exporter": "python",
   "pygments_lexer": "ipython3",
   "version": "3.6.4"
  }
 },
 "nbformat": 4,
 "nbformat_minor": 4
}
